{
 "cells": [
  {
   "cell_type": "code",
   "execution_count": 46,
   "id": "a4057e6d",
   "metadata": {},
   "outputs": [],
   "source": [
    "import geocoder\n",
    "import requests\n",
    "import config\n",
    "\n",
    "GOOGLE_API_KEY = config.google_api_key"
   ]
  },
  {
   "cell_type": "code",
   "execution_count": 47,
   "id": "26010e15",
   "metadata": {},
   "outputs": [],
   "source": [
    "restaurants = {}"
   ]
  },
  {
   "cell_type": "code",
   "execution_count": 85,
   "id": "be838cef",
   "metadata": {},
   "outputs": [],
   "source": [
    "def addRestaurant(name, address):\n",
    "    loc = geocode(address)\n",
    "    restaurants[name] = loc\n",
    "\n",
    "def geocode(address):\n",
    "    url = 'https://maps.googleapis.com/maps/api/geocode/json'\n",
    "    params = {'address': address, 'key': GOOGLE_API_KEY}\n",
    "    r = requests.get(url, params=params)\n",
    "    results = r.json()['results']\n",
    "    location = results[0]['geometry']['location']\n",
    "    return location['lat'], location['lng']\n",
    "\n",
    "def currLocation():\n",
    "    return geocoder.ip('me').latlng\n",
    "\n",
    "def distance(loc1, loc2):\n",
    "    x, y = loc1\n",
    "    X, Y = loc2\n",
    "    \n",
    "    a, b = X-x, Y-y\n",
    "    \n",
    "    return (a**2 + b**2)**1/2\n",
    "\n",
    "def sortByDistance():\n",
    "    currLoc = currLocation()\n",
    "    \n",
    "    restDists = [(0, '')] * len(restaurants)\n",
    "    \n",
    "    i = 0\n",
    "    for name, loc in restaurants.items():\n",
    "        dist = distance(currLoc, loc)\n",
    "        restDists[i] = (dist, name)\n",
    "        i += 1\n",
    "    \n",
    "    restDists.sort()\n",
    "    \n",
    "    return restDists"
   ]
  },
  {
   "cell_type": "code",
   "execution_count": 78,
   "id": "c8350ba6",
   "metadata": {},
   "outputs": [],
   "source": [
    "addRestaurant('Uwajimaya', \"699 120th Ave NE, Bellevue, WA 98005\")\n",
    "addRestaurant('Fred Meyer', \"2041 148th Ave NE, Bellevue, WA 98007\")\n",
    "addRestaurant('Bellevue Square', \"575 Bellevue Square, Bellevue, WA 98004\")\n",
    "addRestaurant(\"The Home Depot\", \"325 120th Ave NE, Bellevue, WA 98005\")"
   ]
  },
  {
   "cell_type": "code",
   "execution_count": 79,
   "id": "f640f2a9",
   "metadata": {},
   "outputs": [
    {
     "data": {
      "text/plain": [
       "{'Uwajimaya': (47.61584680000001, -122.1824689),\n",
       " 'Fred Meyer': (47.6284792, -122.1437256),\n",
       " 'Bellevue Square': (47.6156024, -122.203819),\n",
       " 'The Home Depot': (47.6124246, -122.181756)}"
      ]
     },
     "execution_count": 79,
     "metadata": {},
     "output_type": "execute_result"
    }
   ],
   "source": [
    "restaurants"
   ]
  },
  {
   "cell_type": "code",
   "execution_count": 80,
   "id": "ca65b56b",
   "metadata": {},
   "outputs": [
    {
     "data": {
      "text/plain": [
       "[47.6597, -117.4291]"
      ]
     },
     "execution_count": 80,
     "metadata": {},
     "output_type": "execute_result"
    }
   ],
   "source": [
    "currLocation()"
   ]
  },
  {
   "cell_type": "code",
   "execution_count": null,
   "id": "f7fc622e",
   "metadata": {},
   "outputs": [],
   "source": []
  }
 ],
 "metadata": {
  "kernelspec": {
   "display_name": "Python 3 (ipykernel)",
   "language": "python",
   "name": "python3"
  },
  "language_info": {
   "codemirror_mode": {
    "name": "ipython",
    "version": 3
   },
   "file_extension": ".py",
   "mimetype": "text/x-python",
   "name": "python",
   "nbconvert_exporter": "python",
   "pygments_lexer": "ipython3",
   "version": "3.8.5"
  }
 },
 "nbformat": 4,
 "nbformat_minor": 5
}
