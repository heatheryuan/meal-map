{
 "cells": [
  {
   "cell_type": "code",
   "execution_count": 228,
   "id": "8a6571b4",
   "metadata": {},
   "outputs": [],
   "source": [
    "import geocoder\n",
    "import requests\n",
    "import config\n",
    "import json\n",
    "\n",
    "GOOGLE_API_KEY = config.google_api_key"
   ]
  },
  {
   "cell_type": "code",
   "execution_count": 229,
   "id": "51025a4e",
   "metadata": {},
   "outputs": [],
   "source": [
    "# These are all util functions, not part of main script\n",
    "\n",
    "def addRestaurants(restaurants):\n",
    "    for name, address in restaurants:\n",
    "        loc = geocode(address)\n",
    "        savedRestaurants[name] = loc\n",
    "    storeRestaurants()\n",
    "\n",
    "def geocode(address):\n",
    "    url = 'https://maps.googleapis.com/maps/api/geocode/json'\n",
    "    params = {'address': address, 'key': GOOGLE_API_KEY}\n",
    "    r = requests.get(url, params=params)\n",
    "    results = r.json()['results']\n",
    "    location = results[0]['geometry']['location']\n",
    "    return location['lat'], location['lng']\n",
    "\n",
    "def currLocation():\n",
    "    return geocoder.ip('me').latlng\n",
    "\n",
    "def distance(loc1, loc2):\n",
    "    x, y = loc1\n",
    "    X, Y = loc2\n",
    "    \n",
    "    a, b = X-x, Y-y\n",
    "    \n",
    "    return (a**2 + b**2)**1/2\n",
    "\n",
    "def sortByDistance():\n",
    "    currLoc = currLocation()\n",
    "    sortedRestaurants = sorted(savedRestaurants.items(), key=lambda data: distance(currLoc, data[1]))\n",
    "    \n",
    "    return [name for name, loc in sortedRestaurants]"
   ]
  },
  {
   "cell_type": "code",
   "execution_count": 230,
   "id": "ff4c3783",
   "metadata": {},
   "outputs": [],
   "source": [
    "def loadRestaurants():\n",
    "    try:\n",
    "        with open('data/restaurants') as restaurants_file:\n",
    "            global savedRestaurants\n",
    "            savedRestaurants = json.load(restaurants_file)\n",
    "    except IOError:\n",
    "        print(\"Error loading restaurants\")\n",
    "\n",
    "def storeRestaurants():\n",
    "    with open('data/restaurants', 'w') as restaurants_file: \n",
    "        json.dump(savedRestaurants, restaurants_file)"
   ]
  },
  {
   "cell_type": "code",
   "execution_count": 231,
   "id": "d64dea30",
   "metadata": {
    "scrolled": true
   },
   "outputs": [
    {
     "name": "stdout",
     "output_type": "stream",
     "text": [
      "Error loading restaurants\n"
     ]
    }
   ],
   "source": [
    "# TODO: load from database\n",
    "savedRestaurants = {}\n",
    "loadRestaurants()"
   ]
  },
  {
   "cell_type": "code",
   "execution_count": 222,
   "id": "edfbffbe",
   "metadata": {},
   "outputs": [
    {
     "data": {
      "text/plain": [
       "{'Uwajimaya': [47.61584680000001, -122.1824689],\n",
       " 'Fred Meyer': [47.6284792, -122.1437256],\n",
       " 'Bellevue Square': [47.6156024, -122.203819],\n",
       " 'The Home Depot': [47.6124246, -122.181756]}"
      ]
     },
     "execution_count": 222,
     "metadata": {},
     "output_type": "execute_result"
    }
   ],
   "source": [
    "savedRestaurants"
   ]
  },
  {
   "cell_type": "code",
   "execution_count": 223,
   "id": "f78f4872",
   "metadata": {},
   "outputs": [],
   "source": [
    "toAdd = [('Uwajimaya', \"699 120th Ave NE, Bellevue, WA 98005\"), \n",
    "         ('Fred Meyer', \"2041 148th Ave NE, Bellevue, WA 98007\"),\n",
    "        ('Bellevue Square', \"575 Bellevue Square, Bellevue, WA 98004\"),\n",
    "        (\"The Home Depot\", \"325 120th Ave NE, Bellevue, WA 98005\")]\n",
    "addRestaurants(toAdd)"
   ]
  },
  {
   "cell_type": "code",
   "execution_count": null,
   "id": "6edcac9b",
   "metadata": {},
   "outputs": [],
   "source": []
  }
 ],
 "metadata": {
  "kernelspec": {
   "display_name": "Python 3 (ipykernel)",
   "language": "python",
   "name": "python3"
  },
  "language_info": {
   "codemirror_mode": {
    "name": "ipython",
    "version": 3
   },
   "file_extension": ".py",
   "mimetype": "text/x-python",
   "name": "python",
   "nbconvert_exporter": "python",
   "pygments_lexer": "ipython3",
   "version": "3.8.5"
  }
 },
 "nbformat": 4,
 "nbformat_minor": 5
}
