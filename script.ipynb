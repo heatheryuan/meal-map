{
 "cells": [
  {
   "cell_type": "code",
   "execution_count": 13,
   "id": "4353cc78",
   "metadata": {},
   "outputs": [],
   "source": [
    "import requests\n",
    "import config\n",
    "import json\n",
    "import os\n",
    "\n",
    "GOOGLE_API_KEY = config.google_api_key\n",
    "SUDO_PASSWORD = config.sudo_pwd"
   ]
  },
  {
   "cell_type": "code",
   "execution_count": 21,
   "id": "d68ed607",
   "metadata": {},
   "outputs": [],
   "source": [
    "# These are all util functions, not part of main script\n",
    "\n",
    "def addRestaurants(restaurants):\n",
    "    for name, address in restaurants:\n",
    "        loc = geocode(address)\n",
    "        savedRestaurants[name] = loc\n",
    "    storeRestaurants()\n",
    "\n",
    "def geocode(address):\n",
    "    url = 'https://maps.googleapis.com/maps/api/geocode/json'\n",
    "    params = {'address': address, 'key': GOOGLE_API_KEY}\n",
    "    r = requests.get(url, params=params)\n",
    "    results = r.json()['results']\n",
    "    location = results[0]['geometry']['location']\n",
    "    return location['lat'], location['lng']\n",
    "\n",
    "def currLocation():\n",
    "    url = \"https://www.googleapis.com/geolocation/v1/geolocate?key=\" + GOOGLE_API_KEY\n",
    "    response = requests.post(url)\n",
    "    location_data = response.json()['location']\n",
    "    lat, long = location_data['lat'], location_data['lng']\n",
    "    return ((float(lat), float(long)))\n",
    "\n",
    "def distance(loc1, loc2):\n",
    "    x, y = loc1\n",
    "    X, Y = loc2\n",
    "    \n",
    "    a, b = X-x, Y-y\n",
    "    \n",
    "    return (a**2 + b**2)**1/2\n",
    "\n",
    "def sortByDistance():\n",
    "    currLoc = currLocation()\n",
    "    sortedRestaurants = sorted(savedRestaurants.items(), key=lambda data: distance(currLoc, data[1]))\n",
    "    \n",
    "    return [name for name, loc in sortedRestaurants]"
   ]
  },
  {
   "cell_type": "code",
   "execution_count": 22,
   "id": "e842b6c8",
   "metadata": {},
   "outputs": [
    {
     "data": {
      "text/plain": [
       "(47.6204358, -122.2069924)"
      ]
     },
     "execution_count": 22,
     "metadata": {},
     "output_type": "execute_result"
    }
   ],
   "source": [
    "currLocation()"
   ]
  },
  {
   "cell_type": "code",
   "execution_count": 23,
   "id": "ec44e145",
   "metadata": {},
   "outputs": [],
   "source": [
    "def loadRestaurants():\n",
    "    try:\n",
    "        with open('data/restaurants') as restaurants_file:\n",
    "            global savedRestaurants\n",
    "            savedRestaurants = json.load(restaurants_file)\n",
    "    except IOError:\n",
    "        print(\"Error loading restaurants\")\n",
    "\n",
    "def storeRestaurants():\n",
    "    with open('data/restaurants', 'w') as restaurants_file: \n",
    "        json.dump(savedRestaurants, restaurants_file)"
   ]
  },
  {
   "cell_type": "code",
   "execution_count": 24,
   "id": "1493f305",
   "metadata": {
    "scrolled": true
   },
   "outputs": [],
   "source": [
    "# TODO: load from database\n",
    "savedRestaurants = {}\n",
    "loadRestaurants()"
   ]
  },
  {
   "cell_type": "code",
   "execution_count": 25,
   "id": "ea30268d",
   "metadata": {},
   "outputs": [
    {
     "data": {
      "text/plain": [
       "{'Uwajimaya': [47.61584680000001, -122.1824689],\n",
       " 'Fred Meyer': [47.6284792, -122.1437256],\n",
       " 'Bellevue Square': [47.6156024, -122.203819],\n",
       " 'The Home Depot': [47.6124246, -122.181756]}"
      ]
     },
     "execution_count": 25,
     "metadata": {},
     "output_type": "execute_result"
    }
   ],
   "source": [
    "savedRestaurants"
   ]
  },
  {
   "cell_type": "code",
   "execution_count": 26,
   "id": "23955aa8",
   "metadata": {},
   "outputs": [],
   "source": [
    "toAdd = [('Uwajimaya', \"699 120th Ave NE, Bellevue, WA 98005\"), \n",
    "         ('Fred Meyer', \"2041 148th Ave NE, Bellevue, WA 98007\"),\n",
    "        ('Bellevue Square', \"575 Bellevue Square, Bellevue, WA 98004\"),\n",
    "        (\"The Home Depot\", \"325 120th Ave NE, Bellevue, WA 98005\")]\n",
    "addRestaurants(toAdd)"
   ]
  },
  {
   "cell_type": "code",
   "execution_count": 27,
   "id": "13161cae",
   "metadata": {},
   "outputs": [
    {
     "data": {
      "text/plain": [
       "['Bellevue Square', 'Uwajimaya', 'The Home Depot', 'Fred Meyer']"
      ]
     },
     "execution_count": 27,
     "metadata": {},
     "output_type": "execute_result"
    }
   ],
   "source": [
    "sortByDistance()"
   ]
  },
  {
   "cell_type": "code",
   "execution_count": null,
   "id": "8aea55fd",
   "metadata": {},
   "outputs": [],
   "source": [
    "t"
   ]
  }
 ],
 "metadata": {
  "kernelspec": {
   "display_name": "Python 3 (ipykernel)",
   "language": "python",
   "name": "python3"
  },
  "language_info": {
   "codemirror_mode": {
    "name": "ipython",
    "version": 3
   },
   "file_extension": ".py",
   "mimetype": "text/x-python",
   "name": "python",
   "nbconvert_exporter": "python",
   "pygments_lexer": "ipython3",
   "version": "3.8.5"
  }
 },
 "nbformat": 4,
 "nbformat_minor": 5
}
